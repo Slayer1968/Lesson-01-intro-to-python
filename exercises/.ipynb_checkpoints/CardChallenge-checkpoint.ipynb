{
 "cells": [
  {
   "cell_type": "markdown",
   "metadata": {},
   "source": [
    "![](card_chal.png)"
   ]
  },
  {
   "cell_type": "markdown",
   "metadata": {},
   "source": [
    "> Each card has a letter on one side and a number on the other side.  \n",
    "> **Claim: if a card shows a vowel on one face, then its opposite face is an even number**   \n",
    "> Which card or cards must be turned over to test if this claim is true or false?   "
   ]
  },
  {
   "cell_type": "markdown",
   "metadata": {},
   "source": [
    "## Think about this for 2 minutes"
   ]
  },
  {
   "cell_type": "code",
   "execution_count": null,
   "metadata": {},
   "outputs": [],
   "source": [
    "# Possible solutions:\n",
    "\n",
    "\n",
    "\n"
   ]
  },
  {
   "cell_type": "markdown",
   "metadata": {},
   "source": [
    "## Next time\n",
    "We have covered the different **datastructures** in python (list, tuple, set, dict), and you will be able to  to implement an algorithm that can check if a set of cards apply to this rule or not. \n",
    "\n",
    "## Later this semester\n",
    "You are going to refactor your solution into being more effecient regarding to time, and memory, and you are going to make the code have a more \"pythonic\" feeling. This will primarely be through the use of **list comprehensions** and **generator expressions**. "
   ]
  }
 ],
 "metadata": {
  "kernelspec": {
   "display_name": "Python 3",
   "language": "python",
   "name": "python3"
  },
  "language_info": {
   "codemirror_mode": {
    "name": "ipython",
    "version": 3
   },
   "file_extension": ".py",
   "mimetype": "text/x-python",
   "name": "python",
   "nbconvert_exporter": "python",
   "pygments_lexer": "ipython3",
   "version": "3.7.6"
  },
  "toc": {
   "base_numbering": 1,
   "nav_menu": {},
   "number_sections": false,
   "sideBar": true,
   "skip_h1_title": true,
   "title_cell": "Table of Contents",
   "title_sidebar": "Contents",
   "toc_cell": false,
   "toc_position": {},
   "toc_section_display": true,
   "toc_window_display": false
  }
 },
 "nbformat": 4,
 "nbformat_minor": 2
}
